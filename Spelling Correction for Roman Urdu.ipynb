{
 "cells": [
  {
   "cell_type": "markdown",
   "id": "29c9e9b0",
   "metadata": {},
   "source": [
    
   ]
  },
  {
   "cell_type": "code",
   "execution_count": 17,
   "id": "7d1ec647",
   "metadata": {},
   "outputs": [],
   "source": [
    "def ReadFile(unformated_data,correct_misspelled):\n",
    "    dummy=[]\n",
    "    f=open(\"data.txt\",\"r\")\n",
    "    for line in f:\n",
    "        line=line.split(\" \")\n",
    "        #print(line)\n",
    "        for word in line:\n",
    "            unformated_data.append(word)\n",
    "    \n",
    "    f.close()\n",
    "    \n",
    "    f=open(\"misspellings.txt\",\"r\")\n",
    "    counter=0\n",
    "    for line in f:\n",
    "        if counter==0:\n",
    "            counter+=1\n",
    "            continue\n",
    "        \n",
    "        line=line.split()\n",
    "        #print(line)\n",
    "        correct_misspelled.append(line)\n",
    "    \n",
    "    f.close()\n",
    "    return unformated_data,correct_misspelled"
   ]
  },
  {
   "cell_type": "code",
   "execution_count": 18,
   "id": "23175086",
   "metadata": {},
   "outputs": [],
   "source": [
    "unformated_data=[]\n",
    "correct_misspelled=[]\n",
    "unformated_data,correct_misspelled=ReadFile(unformated_data,correct_misspelled)\n",
    "\n",
    "Unigrams={}"
   ]
  },
  {
   "cell_type": "code",
   "execution_count": 19,
   "id": "cf4e85db",
   "metadata": {},
   "outputs": [],
   "source": [
    "def GenerateUnigrams(Unigrams):\n",
    "    for word in unformated_data:\n",
    "        if word not in Unigrams:\n",
    "            Unigrams[word]=1\n",
    "        else:\n",
    "            Unigrams[word]+=1\n",
    "    \n",
    "    corpus_length=len(unformated_data)\n",
    "    for key in Unigrams:\n",
    "        prob=Unigrams[key]\n",
    "        prob/=corpus_length\n",
    "        Unigrams[key]=prob\n",
    "    \n",
    "    return Unigrams\n",
    "    \n",
    "    \n",
    "    "
   ]
  },
  {
   "cell_type": "code",
   "execution_count": 20,
   "id": "f727c01b",
   "metadata": {},
   "outputs": [],
   "source": [
    "Unigrams=GenerateUnigrams(Unigrams)"
   ]
  },
  {
   "cell_type": "code",
   "execution_count": 21,
   "id": "116dd442",
   "metadata": {},
   "outputs": [],
   "source": [
    "def GenerateTable():\n",
    "    Table={}\n",
    "    Characters=['@','a','b','c','d','e','f','g','h','i','j','k','l','m','n','o','p','q','r','s','t','u','v','w','x','y','z']\n",
    "    for character in Characters:\n",
    "        for next_character in Characters:\n",
    "            Table[(character,next_character)]=0\n",
    "    \n",
    "    return Table"
   ]
  },
  {
   "cell_type": "code",
   "execution_count": 22,
   "id": "29e7d01e",
   "metadata": {},
   "outputs": [],
   "source": [
    "Insert=GenerateTable()\n",
    "delete=GenerateTable()\n",
    "Substitute=GenerateTable()\n",
    "Transpose=GenerateTable()"
   ]
  },
  {
   "cell_type": "code",
   "execution_count": 23,
   "id": "ef4078d7",
   "metadata": {},
   "outputs": [],
   "source": [
    "def Substitution(correct,mistyped):\n",
    "    counter=0\n",
    "    for i in range(len(correct)):\n",
    "        if correct[i]!=mistyped[i]:\n",
    "            counter+=1\n",
    "            #print(correct[i],mistyped[i])\n",
    "            Substitute[(correct[i],mistyped[i])]+=1\n",
    "            return counter,correct[i],mistyped[i]"
   ]
  },
  {
   "cell_type": "code",
   "execution_count": 24,
   "id": "2a1bac97",
   "metadata": {},
   "outputs": [],
   "source": [
    "def Transposed(correct,mistyped):\n",
    "    for i in range(len(correct)):\n",
    "        for j in range(len(mistyped)):\n",
    "            if correct[i]!=mistyped[j]:\n",
    "                if j+1<len(mistyped):\n",
    "                    if correct[i]==mistyped[j+1]:\n",
    "                        Transpose[(correct[i],mistyped[j])]+=1\n",
    "                        return correct[i-1],mistyped[i]"
   ]
  },
  {
   "cell_type": "code",
   "execution_count": 25,
   "id": "d174deca",
   "metadata": {},
   "outputs": [],
   "source": [
    "def Insertion(correct,mistyped):\n",
    "    for i in range(len(mistyped)):\n",
    "        if i==0:\n",
    "            if correct[0]!=mistyped[0]:\n",
    "                Insert[('@',mistyped[0])]+=1\n",
    "                return '@',mistyped[0]\n",
    "        \n",
    "        try:\n",
    "            if correct[i]!=mistyped[i]:\n",
    "                Insert[(correct[i-1],mistyped[i])]+=1\n",
    "                return correct[i-1],mistyped[i]\n",
    "        \n",
    "        except IndexError:\n",
    "            Insert[(correct[i-1],mistyped[i])]+=1\n",
    "            return correct[i-1],mistyped[i]\n",
    "            \n",
    "        \n",
    "            \n",
    "        \n",
    "        "
   ]
  },
  {
   "cell_type": "code",
   "execution_count": 26,
   "id": "95577839",
   "metadata": {},
   "outputs": [],
   "source": [
    "def Deletion(correct,mistyped):\n",
    "    for i in range(len(correct)):\n",
    "        if i==0:\n",
    "            if correct[0]!=mistyped[0]:\n",
    "                delete[('@',correct[0])]+=1\n",
    "                return '@',correct[0]\n",
    "                \n",
    "        try:\n",
    "            if correct[i]!=mistyped[i]:\n",
    "                delete[(mistyped[i-1],correct[i])]+=1\n",
    "                return mistyped[i-1],correct[i]\n",
    "        \n",
    "        except IndexError:\n",
    "            delete[(mistyped[i-1],correct[i])]+=1\n",
    "            return mistyped[i-1],correct[i]\n",
    "            "
   ]
  },
  {
   "cell_type": "code",
   "execution_count": 27,
   "id": "0080783b",
   "metadata": {},
   "outputs": [],
   "source": [
    "def Probability(letter1,letter2,operation_matrix,correct_word,Unigrams):\n",
    "    total_operations=sum(operation_matrix.values())\n",
    "    probability=operation_matrix[(letter1,letter2)]/total_operations\n",
    "    probability*=Unigrams[correct_word]\n",
    "    return probability\n",
    "    "
   ]
  },
  {
   "cell_type": "code",
   "execution_count": 28,
   "id": "995e4dba",
   "metadata": {},
   "outputs": [],
   "source": [
    "def Suggested_Autocorrected(typo):\n",
    "    autocorrected=\"\"\n",
    "    current=0\n",
    "    previous=0\n",
    "    counter=0\n",
    "    word_candidate={}\n",
    "    for i in range(len(correct_misspelled)):\n",
    "        word=\"\"\n",
    "        #correct_misspelled.append(typo)\n",
    "        next_range=len(correct_misspelled[i])\n",
    "        for j in range(1,next_range):\n",
    "            complete=correct_misspelled[i]\n",
    "            complete.append(typo)\n",
    "            correct=complete[0]\n",
    "            length=len(correct)\n",
    "            correct=correct[:length-1]\n",
    "            if correct in Unigrams.keys():\n",
    "                mistyped=complete[j]\n",
    "                if mistyped!=typo: \n",
    "                    if len(correct)==len(mistyped):\n",
    "                        counter,x,y=Substitution(correct,mistyped)\n",
    "                        if counter==0:\n",
    "                            x,y=Transposed(correct,mistyped)\n",
    "                            current=Probability(x,y,Transpose,correct,Unigrams)\n",
    "                            counter+=1\n",
    "\n",
    "                        else:\n",
    "                            current=Probability(x,y,Substitute,correct,Unigrams)\n",
    "                            counter+=1\n",
    "\n",
    "                    elif len(correct)>len(mistyped):\n",
    "                        x,y=Deletion(correct,mistyped)\n",
    "                        current=Probability(x,y,delete,correct,Unigrams)\n",
    "                        counter+=1\n",
    "\n",
    "                    elif len(correct)<len(mistyped):\n",
    "                        x,y=Insertion(correct,mistyped)\n",
    "                        current=Probability(x,y,Insert,correct,Unigrams)\n",
    "                        counter+=1\n",
    "\n",
    "\n",
    "                    if current>previous:\n",
    "                        word=mistyped\n",
    "                        previous=current\n",
    "            \n",
    "                else:\n",
    "                    if len(correct)==len(mistyped):\n",
    "                        counter,x,y=Substitution(correct,mistyped)\n",
    "                        \n",
    "                        if counter==0:\n",
    "                            x,y=Transposed(correct,mistyped)\n",
    "                            current=Probability(x,y,Transpose,correct,Unigrams)\n",
    "                            counter+=1\n",
    "                            \n",
    "\n",
    "                        else:\n",
    "                            current=Probability(x,y,Substitute,correct,Unigrams)\n",
    "                            counter+=1\n",
    "                            \n",
    "\n",
    "                    elif len(correct)>len(mistyped):\n",
    "                        x,y=Deletion(correct,mistyped)\n",
    "                        current=Probability(x,y,delete,correct,Unigrams)\n",
    "                        counter+=1\n",
    "                        \n",
    "                        \n",
    "                    elif len(correct)<len(mistyped):\n",
    "                        x,y=Insertion(correct,mistyped)\n",
    "                        current=Probability(x,y,Insert,correct,Unigrams)\n",
    "                        counter+=1\n",
    "                        \n",
    "                    \n",
    "                        \n",
    "                    \n",
    "                    if current<previous:\n",
    "                        \n",
    "                        autocorrected=correct\n",
    "                        return autocorrected\n",
    "                    \n",
    "                    else:\n",
    "                    \n",
    "                    \n",
    "                        previous=0\n",
    "                        current=0 \n",
    "\n",
    "            else:\n",
    "                previous=0\n",
    "                break\n",
    "\n",
    "        if counter!=0:\n",
    "            word_candidate[word]=correct\n",
    "            counter=0\n",
    "            \n"
   ]
  },
  {
   "cell_type": "code",
   "execution_count": 33,
   "id": "dfd8a09c",
   "metadata": {},
   "outputs": [
    {
     "name": "stdout",
     "output_type": "stream",
     "text": [
      "Enter a typo: wapasr\n",
      "Autocorrected:  wapas\n"
     ]
    }
   ],
   "source": [
    "typo=input(\"Enter a typo: \")\n",
    "autocorrected=Suggested_Autocorrected(typo)\n",
    "print(\"Autocorrected: \",autocorrected)\n"
   ]
  },
  {
   "cell_type": "code",
   "execution_count": null,
   "id": "21c6a82e",
   "metadata": {},
   "outputs": [],
   "source": []
  }
 ],
 "metadata": {
  "kernelspec": {
   "display_name": "Python 3",
   "language": "python",
   "name": "python3"
  },
  "language_info": {
   "codemirror_mode": {
    "name": "ipython",
    "version": 3
   },
   "file_extension": ".py",
   "mimetype": "text/x-python",
   "name": "python",
   "nbconvert_exporter": "python",
   "pygments_lexer": "ipython3",
   "version": "3.8.10"
  }
 },
 "nbformat": 4,
 "nbformat_minor": 5
}
